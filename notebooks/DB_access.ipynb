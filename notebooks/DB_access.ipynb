{
 "cells": [
  {
   "cell_type": "code",
   "execution_count": null,
   "id": "e4646891",
   "metadata": {},
   "outputs": [],
   "source": [
    "from sqlalchemy import create_engine\n",
    "import pandas as pd\n",
    "import yaml\n",
    "import os"
   ]
  },
  {
   "cell_type": "code",
   "execution_count": null,
   "id": "23a574b1",
   "metadata": {},
   "outputs": [],
   "source": [
    "setup_dir = '/home/klara/bfl-winnie'\n",
    "credentials_path = os.path.join(setup_dir, 'conf', 'local', 'credentials.yml')\n",
    "with open(credentials_path, 'r') as credential_file:\n",
    "    credentials = yaml.safe_load(credential_file)\n",
    "    \n",
    "parameter_path = os.path.join(setup_dir, 'conf', 'base', 'parameters.yml')\n",
    "with open(parameter_path, 'r') as parameter_file:\n",
    "    parameters = yaml.safe_load(parameter_file)"
   ]
  },
  {
   "cell_type": "code",
   "execution_count": null,
   "id": "8387de0b",
   "metadata": {},
   "outputs": [],
   "source": [
    "db_host = parameters['DATABASE_PARAMS']['db_host']\n",
    "db_name = parameters['DATABASE_PARAMS']['db_name']\n",
    "db_user = credentials['dssg']['username']\n",
    "db_pass = credentials['dssg']['password']\n",
    "\n",
    "conn = create_engine('mysql+pymysql://%s:%s@%s/%s' % \n",
    "                       (db_user, db_pass, db_host, db_name),\n",
    "                       encoding = 'latin1', \n",
    "                       echo = True)"
   ]
  },
  {
   "cell_type": "code",
   "execution_count": null,
   "id": "dd70c7bb",
   "metadata": {},
   "outputs": [],
   "source": [
    "conn.table_names()"
   ]
  },
  {
   "cell_type": "code",
   "execution_count": null,
   "id": "5ed6a2f0",
   "metadata": {},
   "outputs": [],
   "source": [
    "query = \"messages\" \n",
    "raw_fb_messages = pd.read_sql(query, conn, params=(\"%<br/>%\",))"
   ]
  },
  {
   "cell_type": "code",
   "execution_count": null,
   "id": "8498706d",
   "metadata": {},
   "outputs": [],
   "source": []
  }
 ],
 "metadata": {
  "kernelspec": {
   "display_name": "winnie3",
   "language": "python",
   "name": "python3"
  },
  "language_info": {
   "codemirror_mode": {
    "name": "ipython",
    "version": 3
   },
   "file_extension": ".py",
   "mimetype": "text/x-python",
   "name": "python",
   "nbconvert_exporter": "python",
   "pygments_lexer": "ipython3",
   "version": "3.7.10"
  }
 },
 "nbformat": 4,
 "nbformat_minor": 5
}
