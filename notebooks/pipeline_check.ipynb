{
 "cells": [
  {
   "cell_type": "code",
   "execution_count": null,
   "id": "2f9414c1",
   "metadata": {},
   "outputs": [],
   "source": [
    "context.pipeline"
   ]
  },
  {
   "cell_type": "code",
   "execution_count": null,
   "id": "d500ae25",
   "metadata": {},
   "outputs": [],
   "source": [
    "messages_table = catalog.load(\"primary_messages\")"
   ]
  },
  {
   "cell_type": "markdown",
   "id": "2e6294a6",
   "metadata": {},
   "source": [
    "# Statistics"
   ]
  },
  {
   "cell_type": "code",
   "execution_count": null,
   "id": "26fd6fd9",
   "metadata": {},
   "outputs": [],
   "source": [
    "n_total_messages = len(messages_table[:])\n",
    "\n",
    "print(f'There are {n_total_messages} messages.')"
   ]
  },
  {
   "cell_type": "code",
   "execution_count": null,
   "id": "889bef68",
   "metadata": {},
   "outputs": [],
   "source": [
    "unique_threads = len(set(messages_table[:]['thread_id']))\n",
    "\n",
    "print(f'There are {unique_threads} unique threads.')"
   ]
  },
  {
   "cell_type": "code",
   "execution_count": null,
   "id": "d4aa6a4c",
   "metadata": {},
   "outputs": [],
   "source": [
    "unique_interactions = len(set(messages_table[:]['interaction_id']))\n",
    "\n",
    "print(f'There are {unique_interactions} unique interactions.')"
   ]
  },
  {
   "cell_type": "code",
   "execution_count": null,
   "id": "ee72ba1d",
   "metadata": {},
   "outputs": [],
   "source": [
    "unique_beneficiaries = len(set(messages_table[:]['beneficiary_name']))\n",
    "\n",
    "print(f'There are {unique_beneficiaries} unique beneficiaries.')"
   ]
  },
  {
   "cell_type": "code",
   "execution_count": null,
   "id": "b420b349",
   "metadata": {},
   "outputs": [],
   "source": [
    "import collections\n",
    "counter=collections.Counter(messages_table[:]['beneficiary_name'])\n",
    "\n",
    "print(f'There are {sum(counter.values())/len(counter.values())} messages per conversation.')"
   ]
  },
  {
   "cell_type": "code",
   "execution_count": null,
   "id": "17321223",
   "metadata": {},
   "outputs": [],
   "source": [
    "# questions vocabulary size\n",
    "import nltk"
   ]
  },
  {
   "cell_type": "code",
   "execution_count": null,
   "id": "2038f0cf",
   "metadata": {},
   "outputs": [],
   "source": [
    "messages_table['tokenized_q'] = messages_table.apply(lambda row: nltk.word_tokenize(row['question']), axis=1)\n",
    "#messages_table['tokenized_a'] = messages_table.apply(lambda row: nltk.word_tokenize(row['answer']), axis=1) # some missing"
   ]
  },
  {
   "cell_type": "code",
   "execution_count": null,
   "id": "a8145110",
   "metadata": {},
   "outputs": [],
   "source": [
    "tokens = messages_table['tokenized_q']"
   ]
  },
  {
   "cell_type": "code",
   "execution_count": null,
   "id": "b4f073fd",
   "metadata": {},
   "outputs": [],
   "source": [
    "tokens"
   ]
  },
  {
   "cell_type": "code",
   "execution_count": null,
   "id": "be58fb58",
   "metadata": {},
   "outputs": [],
   "source": [
    "def flatten(t):\n",
    "    return [item for sublist in t for item in sublist]"
   ]
  },
  {
   "cell_type": "code",
   "execution_count": null,
   "id": "a511b852",
   "metadata": {},
   "outputs": [],
   "source": [
    "tokens_f = flatten(tokens)"
   ]
  },
  {
   "cell_type": "code",
   "execution_count": null,
   "id": "d0432cdf",
   "metadata": {},
   "outputs": [],
   "source": [
    "print(f'There are {len(tokens_f)} total words in questions.')"
   ]
  },
  {
   "cell_type": "code",
   "execution_count": null,
   "id": "e9475d88",
   "metadata": {},
   "outputs": [],
   "source": [
    "print(f'There are {len(set(tokens_f))} unique words in questions.')"
   ]
  },
  {
   "cell_type": "code",
   "execution_count": null,
   "id": "3734bcdd",
   "metadata": {},
   "outputs": [],
   "source": [
    "print(f'Lexical richness in text: {len(set(tokens_f))/len(tokens_f)} ')"
   ]
  },
  {
   "cell_type": "code",
   "execution_count": null,
   "id": "d04f222a",
   "metadata": {},
   "outputs": [],
   "source": [
    "unique_words =set(tokens_f)"
   ]
  },
  {
   "cell_type": "code",
   "execution_count": null,
   "id": "279ebac8",
   "metadata": {},
   "outputs": [],
   "source": [
    "unique_words"
   ]
  },
  {
   "cell_type": "code",
   "execution_count": null,
   "id": "4f4f16f7",
   "metadata": {},
   "outputs": [],
   "source": [
    "fdist = nltk.FreqDist(tokens_f)"
   ]
  },
  {
   "cell_type": "code",
   "execution_count": null,
   "id": "30fd48ad",
   "metadata": {},
   "outputs": [],
   "source": [
    "fdist.most_common(50)"
   ]
  },
  {
   "cell_type": "code",
   "execution_count": null,
   "id": "4935d5f2",
   "metadata": {},
   "outputs": [],
   "source": [
    "fdist.plot(50, cumulative=True)"
   ]
  },
  {
   "cell_type": "code",
   "execution_count": null,
   "id": "4ae2f7ca",
   "metadata": {},
   "outputs": [],
   "source": [
    " fdist.hapaxes()"
   ]
  }
 ],
 "metadata": {
  "kernelspec": {
   "display_name": "winnie3",
   "language": "python",
   "name": "python3"
  },
  "language_info": {
   "codemirror_mode": {
    "name": "ipython",
    "version": 3
   },
   "file_extension": ".py",
   "mimetype": "text/x-python",
   "name": "python",
   "nbconvert_exporter": "python",
   "pygments_lexer": "ipython3",
   "version": "3.7.10"
  }
 },
 "nbformat": 4,
 "nbformat_minor": 5
}
